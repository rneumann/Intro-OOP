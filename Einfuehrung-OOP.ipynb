{
 "cells": [
  {
   "cell_type": "markdown",
   "id": "a990f02d",
   "metadata": {},
   "source": [
    "# Einführung in die objektorientierte Programmierung mit Python\n",
    "\n",
    "Aus den bisherigen Vorlesungen kennen Sie bereits die einfachen Programmierkonstrukte wie\n",
    "* Variablen\n",
    "* Schleifen\n",
    "* Bedingungen\n",
    "* Funktionen.\n",
    "\n",
    "Sie kennen auch bereits die einfachen Datenstrukturen wie\n",
    "* Listen (**list**)\n",
    "* Dictionaries (**dict**)\n",
    "* Schlangen (hier Double-Ended-Queues, **deque**).\n",
    "\n",
    "Als nächstes werden wir die grundlegenden Konstrukte der Objektorientierung am Beispiel des Sensors und des Aktors aus der Vorlesung kennenlernen.\n",
    "\n",
    "In der folgenden Abbildung sehen Sie dazu noch einmal den Aufbau des Systems:\n",
    "\n",
    "![image info](./pictures/image.png)\n",
    "\n",
    "Der Einfachheit halber sagen wir hier, dass ein Werkstück durch einen Farbwert repräsentiert wird (RGB) und wir speichern die Werte in einem Dictionary (dict)"
   ]
  },
  {
   "cell_type": "code",
   "execution_count": 1,
   "id": "5fa9c3cb",
   "metadata": {},
   "outputs": [],
   "source": [
    "werkstueck1 = { 'r': 0xAF, 'g': 0x23, 'b': 0x07 }\n",
    "werkstueck2 = { 'r': 0x03, 'g': 0x2D, 'b': 0xA2 }"
   ]
  },
  {
   "cell_type": "markdown",
   "id": "98d67c4f",
   "metadata": {},
   "source": [
    "Das so definierte Werkstück 1 hat **<font color=\"#AF2307\">Diese Farbe</font>** - ist also \"ziemlich rot\", währen Werkstück 2 **<font color=\"#032DA2\">so aussieht</font>**"
   ]
  },
  {
   "cell_type": "markdown",
   "id": "a8d70d16",
   "metadata": {},
   "source": [
    "## Erstellung der Sensor-Klasse\n",
    "Wir fangen nun damit an, unseren Kamerasensor zu definieren. Wir definieren dazu zunächst den Bauplan (die Klasse) **Sensor**.\n",
    "\n",
    "Sensoren sollen Schwellwerte für die einzelnen Farben haben - der Einfachheit halber nehmen wir hier nur einen Minimalwert für Rot (**minRed**) und einen Maxmalwert für die beiden anderen Farben (**maxGreen** und **maxBlue**)\n",
    "\n",
    "#### Das Klassengerüst und die Attribute\n",
    "In Python definieren wir die Attribute innerhalb eines Konstruktors (erzeugende Funktion), der den Namen **\\_\\_init\\_\\_** haben muss und wie einen speziellen Parameter **\\_\\_self\\_\\_** als ersten Parameter haben muss.\n",
    "*\\_\\_self\\_\\_* ist der Bezeichner für ein **Objekt** (eine Instanz) der Klasse, also z.B. unseren konkreten Sensor.\n",
    "\n",
    "Das folgende Codestück zeigt, wie das aussehen kann:"
   ]
  },
  {
   "cell_type": "code",
   "execution_count": 2,
   "id": "e52cc77e",
   "metadata": {},
   "outputs": [],
   "source": [
    "class Sensor:\n",
    "    def __init__(self):\n",
    "        self.minRed = 0xA0\n",
    "        self.maxGreen = 0x30\n",
    "        self.maxBlue = 0x30"
   ]
  },
  {
   "cell_type": "markdown",
   "id": "d8958a4c",
   "metadata": {},
   "source": [
    "#### Funktionalität\n",
    "Unser Sensor \"kann\" aber bisher noch nichts - er hat noch keine Funktionalität und wir wollen ja, dass er ein Werkstück bezügich der Farbe klassifiziert, also entscheidet, ob ein Werkstück gut (rot genug) oder nicht gut ist.\n",
    "\n",
    "Dazu müssen wir dem Sensor eine entsprechende Funktion hinzufügen, eine Methode:"
   ]
  },
  {
   "cell_type": "code",
   "execution_count": 17,
   "id": "f23fe8c8",
   "metadata": {},
   "outputs": [],
   "source": [
    "class Sensor:\n",
    "    def __init__(self):\n",
    "        self.minRed = 0xA0\n",
    "        self.maxGreen = 0x30\n",
    "        self.maxBlue = 0x30\n",
    "    def pruefen(self, werkstueck) -> bool:\n",
    "        if (werkstueck['r'] >= self.minRed) and (werkstueck['g'] <= self.maxGreen) and (werkstueck['b'] <= self.maxBlue):\n",
    "            return True\n",
    "        else:\n",
    "            return False"
   ]
  },
  {
   "cell_type": "markdown",
   "id": "64464969",
   "metadata": {},
   "source": [
    "Wir haben jetzt also einen Bauplan für einen Sensor, der ein \"gesehenes\" Werkstück anhand seiner Farbe klassifizieren kann.\n",
    "\n",
    "#### Instanziieren und Funktionalität nutzen\n",
    "Damit wir das auch nutzen können, benötigen wir eine Instanz dieser Klasse, also ein konkretes Objekt, mit dem wir unsere beiden Werkstücke von oben prüfen können."
   ]
  },
  {
   "cell_type": "code",
   "execution_count": 22,
   "id": "43cd0943",
   "metadata": {},
   "outputs": [
    {
     "name": "stdout",
     "output_type": "stream",
     "text": [
      "Sensor:  <__main__.Sensor object at 0x10761d720>\n"
     ]
    }
   ],
   "source": [
    "s = Sensor()\n",
    "print(\"Sensor: \", s)"
   ]
  },
  {
   "cell_type": "markdown",
   "id": "fc2ee98b",
   "metadata": {},
   "source": [
    "Diese etwas kryptische Darstellung ist nur die Repräsentation des Objekts in Python - wir können das neu erzeugte Objekt jetzt zum Prüfen unserer Bauteile verwenden:"
   ]
  },
  {
   "cell_type": "code",
   "execution_count": 23,
   "id": "769d5a60",
   "metadata": {},
   "outputs": [
    {
     "name": "stdout",
     "output_type": "stream",
     "text": [
      "prüfe Werkstück 1:  {'r': 175, 'g': 35, 'b': 7}  ->  True\n",
      "prüfe Werkstück 1:  {'r': 175, 'g': 35, 'b': 7}  ->  True\n"
     ]
    }
   ],
   "source": [
    "print(\"prüfe Werkstück 1: \", werkstueck1, \" -> \", s.pruefen(werkstueck1))\n",
    "print(\"prüfe Werkstück 1: \", werkstueck1, \" -> \", s.pruefen(werkstueck1))"
   ]
  },
  {
   "cell_type": "markdown",
   "id": "7d858a76",
   "metadata": {},
   "source": [
    "## Übungsaufgabe\n",
    "Erstellen Sie auf die gleiche Art eine Klasse für den Aktor, der zwei Attribute **druck1** und **druck2** haben soll und der eine Methode **pusten** anbietet, die mit einem Wahrheitswert (_bool_) parametrisiert werden soll. Die Methode soll nur ausgeben, mit welchem \"Druck\" gepustet wird."
   ]
  },
  {
   "cell_type": "code",
   "execution_count": 33,
   "id": "472496b4",
   "metadata": {},
   "outputs": [],
   "source": [
    "class Aktor:\n",
    "    def __init__(self):\n",
    "        self.druck1 = 100\n",
    "        self.druck2 = 300\n",
    "    def pusten(self, druck1):\n",
    "        if (druck1):\n",
    "            print(\"pusten: \", self.druck1)\n",
    "        else:\n",
    "            print(\"pusten: \", self.druck2)"
   ]
  },
  {
   "cell_type": "markdown",
   "id": "032d5611",
   "metadata": {},
   "source": [
    "## Zusammenbau - Integration\n",
    "\n",
    "Sie kennen ja bereits Schlangen - wir erstellen jetzt ein Programm, das das Ganze Szenario abdeckt. Dazu erstellen wir im ersten Schritt eine Schlange mit 10 Werkstücken, bei denen wir die RGB-Werte zufällig initialisieren:"
   ]
  },
  {
   "cell_type": "code",
   "execution_count": 40,
   "id": "2d331565",
   "metadata": {},
   "outputs": [
    {
     "name": "stdout",
     "output_type": "stream",
     "text": [
      "deque([{'r': 203, 'g': 39, 'b': 49}, {'r': 226, 'g': 33, 'b': 44}, {'r': 181, 'g': 42, 'b': 42}, {'r': 249, 'g': 49, 'b': 37}, {'r': 150, 'g': 43, 'b': 35}, {'r': 192, 'g': 46, 'b': 44}, {'r': 246, 'g': 33, 'b': 51}, {'r': 142, 'g': 36, 'b': 42}, {'r': 200, 'g': 48, 'b': 40}])\n"
     ]
    }
   ],
   "source": [
    "import random\n",
    "from collections import deque\n",
    "\n",
    "random.seed(None)\n",
    "werkstuecke = deque()\n",
    "\n",
    "for n in range(1, 10):\n",
    "    werkstueck = {'r': random.randint(0x80,0xFF), 'g': random.randint(0x20,0x33), 'b': random.randint(0x20,0x33)}\n",
    "    werkstuecke.append(werkstueck)\n",
    "\n",
    "print(werkstuecke)"
   ]
  },
  {
   "cell_type": "markdown",
   "id": "722fefd5",
   "metadata": {},
   "source": [
    "Nun erstellen wir die Steuerungslogik, indem wir unsere Warteschlange durchgehen und das jeweils erste Objekt prüfen und ggf. verwerfen."
   ]
  },
  {
   "cell_type": "code",
   "execution_count": 41,
   "id": "6a7ee099",
   "metadata": {},
   "outputs": [
    {
     "name": "stdout",
     "output_type": "stream",
     "text": [
      "prüfe  9  Werkstücke...\n",
      "Werkstueck:  {'r': 203, 'g': 39, 'b': 49}\n",
      "pusten:  300\n",
      "Werkstueck:  {'r': 226, 'g': 33, 'b': 44}\n",
      "pusten:  100\n",
      "Werkstueck:  {'r': 181, 'g': 42, 'b': 42}\n",
      "pusten:  100\n",
      "Werkstueck:  {'r': 249, 'g': 49, 'b': 37}\n",
      "pusten:  300\n",
      "Werkstueck:  {'r': 150, 'g': 43, 'b': 35}\n",
      "pusten:  300\n",
      "Werkstueck:  {'r': 192, 'g': 46, 'b': 44}\n",
      "pusten:  100\n",
      "Werkstueck:  {'r': 246, 'g': 33, 'b': 51}\n",
      "pusten:  300\n",
      "Werkstueck:  {'r': 142, 'g': 36, 'b': 42}\n",
      "pusten:  300\n",
      "Werkstueck:  {'r': 200, 'g': 48, 'b': 40}\n",
      "pusten:  100\n"
     ]
    }
   ],
   "source": [
    "print(\"prüfe \", len(werkstuecke), \" Werkstücke...\")\n",
    "\n",
    "sensor = Sensor()\n",
    "aktor = Aktor()\n",
    "\n",
    "while werkstuecke:\n",
    "    werkstueck = werkstuecke.popleft()\n",
    "    print(\"Werkstueck: \", werkstueck)\n",
    "    aktor.pusten(sensor.pruefen(werkstueck))"
   ]
  },
  {
   "cell_type": "markdown",
   "id": "717e6c88",
   "metadata": {},
   "source": [
    "## Aufgabe\n",
    "Verändern Sie die angegebenen Klassen so, dass sie die Schwellwerte der Sensoren und AKtoren beim Erzeugen der Instanzen verändern können, so dass sie flexiblere Sensoren erhalten.\n",
    "**Tipp:** Dazu müssen Sie der *\\_\\_init\\_\\_*-Methode zusätzliche Parameter mitgeben"
   ]
  },
  {
   "cell_type": "code",
   "execution_count": null,
   "id": "3c41072a",
   "metadata": {},
   "outputs": [],
   "source": []
  }
 ],
 "metadata": {
  "kernelspec": {
   "display_name": "Python 3 (ipykernel)",
   "language": "python",
   "name": "python3"
  },
  "language_info": {
   "codemirror_mode": {
    "name": "ipython",
    "version": 3
   },
   "file_extension": ".py",
   "mimetype": "text/x-python",
   "name": "python",
   "nbconvert_exporter": "python",
   "pygments_lexer": "ipython3",
   "version": "3.10.5"
  }
 },
 "nbformat": 4,
 "nbformat_minor": 5
}
